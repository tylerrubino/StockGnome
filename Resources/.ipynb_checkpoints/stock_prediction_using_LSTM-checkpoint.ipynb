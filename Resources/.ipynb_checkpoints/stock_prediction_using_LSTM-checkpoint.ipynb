{
 "cells": [
  {
   "cell_type": "code",
   "execution_count": 6,
   "id": "db1b1b99-13ea-45a0-9d83-408994ecc2d6",
   "metadata": {},
   "outputs": [],
   "source": [
    "import numpy as np\n",
    "import pandas as pd\n",
    "import matplotlib.pyplot as plt\n",
    "import yfinance as yf\n",
    "import datetime from datetime"
   ]
  },
  {
   "cell_type": "code",
   "execution_count": null,
   "id": "40706274-003e-4b61-b170-928e543963b0",
   "metadata": {},
   "outputs": [],
   "source": []
  },
  {
   "cell_type": "code",
   "execution_count": 9,
   "id": "34ad9448-f1f9-43b0-b77b-0ca6d1def447",
   "metadata": {},
   "outputs": [],
   "source": [
    "# 1. Data Collection"
   ]
  },
  {
   "cell_type": "code",
   "execution_count": null,
   "id": "0198b2d6-0e4b-4328-8d21-ba6cbd50eecc",
   "metadata": {},
   "outputs": [],
   "source": [
    "now = datetime.now()"
   ]
  }
 ],
 "metadata": {
  "kernelspec": {
   "display_name": "Python 3 (ipykernel)",
   "language": "python",
   "name": "python3"
  },
  "language_info": {
   "codemirror_mode": {
    "name": "ipython",
    "version": 3
   },
   "file_extension": ".py",
   "mimetype": "text/x-python",
   "name": "python",
   "nbconvert_exporter": "python",
   "pygments_lexer": "ipython3",
   "version": "3.13.5"
  }
 },
 "nbformat": 4,
 "nbformat_minor": 5
}
